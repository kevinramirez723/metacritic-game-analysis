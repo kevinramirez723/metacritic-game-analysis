{
 "cells": [
  {
   "cell_type": "code",
   "execution_count": null,
   "metadata": {},
   "outputs": [],
   "source": [
    "from bs4 import BeautifulSoup, SoupStrainer\n",
    "import cchardet\n",
    "import lxml\n",
    "import numpy as np\n",
    "import pandas as pd\n",
    "import requests\n",
    "from requests.adapters import HTTPAdapter, Retry"
   ]
  },
  {
   "cell_type": "code",
   "execution_count": null,
   "metadata": {},
   "outputs": [],
   "source": [
    "def scrape_game_info(session, data_dict, pg_num: int=0) -> list[str]:\n",
    "    \"\"\"\n",
    "    \"\"\"\n",
    "    ROOT = \"https://www.metacritic.com\"\n",
    "    SELECT_CRITERIA = \"\"\"\n",
    "        a.title,\n",
    "        .platform span.data,\n",
    "        .clamp-metascore div,\n",
    "        .clamp-userscore div\n",
    "    \"\"\"\n",
    "    pg_url = ROOT + \"/browse/games/score/metascore/all?page=\" + str(pg_num)\n",
    "    all_pg = session.get(pg_url)\n",
    "    game_cells = SoupStrainer(\"td\", class_=\"clamp-summary-wrap\")\n",
    "    games_html = BeautifulSoup(all_pg.content, \"lxml\", parse_only=game_cells)\n",
    "    games_info = games_html.select(SELECT_CRITERIA)\n",
    "    for i, game in enumerate(games_info):\n",
    "        data = game.get_text(strip=True)\n",
    "        match i % 4:\n",
    "            case 0:\n",
    "                data_dict[\"Title\"].append(data)\n",
    "            case 1:\n",
    "                data_dict[\"Platform\"].append(data)\n",
    "            case 2:\n",
    "                data_dict[\"Metascore\"].append(data)\n",
    "            case 3:\n",
    "                data_dict[\"Userscore\"].append(data)\n",
    "    game_urls = [ROOT + game[\"href\"] for game in games_info[::4]]\n",
    "    return game_urls"
   ]
  },
  {
   "cell_type": "code",
   "execution_count": null,
   "metadata": {},
   "outputs": [],
   "source": [
    "def scrape_genres_and_date(session, data_dict, game_url: str) -> list[list[str]]:\n",
    "    \"\"\"\n",
    "    \"\"\"\n",
    "    game_pg = session.get(game_url)\n",
    "    body = SoupStrainer(\"div\", class_=\"left\")\n",
    "    game_html = BeautifulSoup(game_pg.content, \"lxml\", parse_only=body)\n",
    "    genre_info = game_html.select(\"li.summary_detail.product_genre .data\")\n",
    "    release = game_html.select_one(\"li.summary_detail.release_data .data\")\n",
    "    genre_lst = [genre.get_text() for genre in genre_info]\n",
    "    data_dict[\"Genres\"].append(genre_lst)\n",
    "    data_dict[\"Release Date\"].append(release.get_text())"
   ]
  },
  {
   "cell_type": "code",
   "execution_count": null,
   "metadata": {},
   "outputs": [],
   "source": [
    "def scrape_critic_scores(session, data_dict, game_url: str):\n",
    "    \"\"\"\n",
    "    \"\"\"\n",
    "    SUFFIX = \"/critic-reviews\"\n",
    "    SELECT_CRITERIA = \"div.review_critic div.source, div.review_grade\"\n",
    "    critic_pg = session.get(game_url + SUFFIX)\n",
    "    body = SoupStrainer(\"div\", class_=\"body product_reviews\")\n",
    "    critic_html = BeautifulSoup(critic_pg.content, \"lxml\", parse_only=body)\n",
    "    critic_html = critic_html.select_one(\"ol.reviews.critic_reviews\")\n",
    "    critic_info = critic_html.select(SELECT_CRITERIA)\n",
    "    score_dict = {}\n",
    "    for critic in (paired := iter(critic_info)):\n",
    "        score = int(next(paired).get_text())\n",
    "        score_dict[critic.get_text()] = score\n",
    "    data_dict[\"Critics\"].append(score_dict)"
   ]
  },
  {
   "cell_type": "code",
   "execution_count": null,
   "metadata": {},
   "outputs": [],
   "source": [
    "pg_num = 0\n",
    "data_dict = {\n",
    "    \"Title\": [],\n",
    "    \"Platform\": [],\n",
    "    \"Release Date\": [],\n",
    "    \"Metascore\": [],\n",
    "    \"Userscore\": [],\n",
    "    \"Genres\": [],\n",
    "    \"Critics\": [],\n",
    "}\n",
    "session = requests.Session()\n",
    "session.headers = {\"User-Agent\": \"Edge\"}\n",
    "retries = Retry(total=5, backoff_factor=1)\n",
    "session.mount('http://', HTTPAdapter(max_retries=retries))\n",
    "while True:\n",
    "    game_urls = scrape_game_info(session, data_dict, pg_num)\n",
    "    if not game_urls:\n",
    "        break\n",
    "    for url in game_urls:\n",
    "        scrape_genres_and_date(session, data_dict, url)\n",
    "        scrape_critic_scores(session, data_dict, url)\n",
    "    pg_num += 1"
   ]
  },
  {
   "cell_type": "code",
   "execution_count": null,
   "metadata": {},
   "outputs": [],
   "source": [
    "df = pd.DataFrame(data_dict)\n",
    "df[\"Genres\"] = df[\"Genres\"].apply(lambda x: list(pd.unique(x)))\n",
    "df"
   ]
  },
  {
   "cell_type": "code",
   "execution_count": null,
   "metadata": {},
   "outputs": [],
   "source": [
    "df.to_csv(\"raw.csv\", sep='|', index=False)"
   ]
  },
  {
   "cell_type": "code",
   "execution_count": null,
   "metadata": {},
   "outputs": [],
   "source": [
    "pd.read_csv(\"raw.csv\", sep='|')"
   ]
  }
 ],
 "metadata": {
  "kernelspec": {
   "display_name": "base",
   "language": "python",
   "name": "python3"
  },
  "language_info": {
   "codemirror_mode": {
    "name": "ipython",
    "version": 3
   },
   "file_extension": ".py",
   "mimetype": "text/x-python",
   "name": "python",
   "nbconvert_exporter": "python",
   "pygments_lexer": "ipython3",
   "version": "3.10.8"
  },
  "orig_nbformat": 4,
  "vscode": {
   "interpreter": {
    "hash": "d4d1e4263499bec80672ea0156c357c1ee493ec2b1c70f0acce89fc37c4a6abe"
   }
  }
 },
 "nbformat": 4,
 "nbformat_minor": 2
}
