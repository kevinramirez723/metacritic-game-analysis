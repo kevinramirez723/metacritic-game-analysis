{
 "cells": [
  {
   "cell_type": "code",
   "execution_count": null,
   "metadata": {},
   "outputs": [],
   "source": [
    "from __future__ import annotations\n",
    "\n",
    "import cchardet  # Improve parsing speed\n",
    "import lxml  # Replace bs4 default parser\n",
    "import pickle\n",
    "import requests\n",
    "from bs4 import BeautifulSoup\n",
    "from requests.adapters import HTTPAdapter, Retry"
   ]
  },
  {
   "cell_type": "code",
   "execution_count": null,
   "metadata": {},
   "outputs": [],
   "source": [
    "ROOT = \"https://www.metacritic.com\"\n",
    "\n",
    "\n",
    "class Game:\n",
    "    def __init__(\n",
    "        self,\n",
    "        url: str,\n",
    "        title: str = \"\",\n",
    "        metascore: int | None = None,\n",
    "        userscore: int | None = None,\n",
    "    ) -> None:\n",
    "        self.url = url\n",
    "        self.title = title\n",
    "        self.metascore = metascore\n",
    "        self.userscore = userscore\n",
    "\n",
    "    def dump(self) -> tuple[str, str, int | None, int | None]:\n",
    "        return (self.url, self.title, self.metascore, self.userscore)\n",
    "\n",
    "    @staticmethod\n",
    "    def build(attributes: tuple[str, str, int | None, int | None]) -> Game:\n",
    "        return Game(*attributes)\n",
    "\n",
    "    def __repr__(self) -> str:\n",
    "        return f\"{type(self).__name__}(url={self.url!r}, title={self.title!r}, metascore={self.metascore!r}, userscore={self.userscore})\"\n",
    "\n",
    "    def __str__(self) -> str:\n",
    "        TRUNCATE_LIMIT = 13\n",
    "        if len(self.title) < TRUNCATE_LIMIT:\n",
    "            title_str = self.title\n",
    "        else:\n",
    "            title_str = f\"{self.title[:TRUNCATE_LIMIT - 3]}...\"\n",
    "        return f\"{title_str} | {self.metascore} | {self.userscore}\""
   ]
  },
  {
   "cell_type": "code",
   "execution_count": null,
   "metadata": {},
   "outputs": [],
   "source": [
    "s = requests.Session()\n",
    "s.headers = {\"User-Agent\": \"Edge\"}\n",
    "retries = Retry(\n",
    "    total=5,\n",
    "    backoff_factor=0.5,\n",
    "    backoff_jitter=0.5,\n",
    "    status_forcelist=[429],\n",
    "    respect_retry_after_header=False,\n",
    ")\n",
    "s.mount(\"http://\", HTTPAdapter(max_retries=retries))\n",
    "games_sitemapindex = s.get(f\"{ROOT}/games.xml\")"
   ]
  },
  {
   "cell_type": "code",
   "execution_count": null,
   "metadata": {},
   "outputs": [],
   "source": [
    "last_sitemap = BeautifulSoup(games_sitemapindex.content, \"xml\").select_one(\n",
    "    \"sitemapindex sitemap:last-child\"\n",
    ")\n",
    "if last_sitemap is None:\n",
    "    raise Exception(\"No game sitemaps found.\")\n",
    "sitemap_lim = int(last_sitemap.get_text()[:-4].rpartition(\"/\")[-1]) + 1\n",
    "url_lst: list[str] = []\n",
    "for i in range(1, sitemap_lim):\n",
    "    sitemap = s.get(f\"{ROOT}/games/{i}.xml\")\n",
    "    urls = BeautifulSoup(sitemap.content, \"xml\").find_all(\"loc\")\n",
    "    for url in urls:\n",
    "        url_lst.append(url.get_text())\n",
    "s.close()"
   ]
  },
  {
   "cell_type": "code",
   "execution_count": null,
   "metadata": {},
   "outputs": [],
   "source": [
    "GameCollection: list[Game] = []\n",
    "for url in set(url_lst):\n",
    "    GameCollection.append(Game(url[:-1].rpartition(\"/\")[-1]))"
   ]
  },
  {
   "cell_type": "code",
   "execution_count": null,
   "metadata": {},
   "outputs": [],
   "source": [
    "with open(\"games.pickle\", \"wb\") as file:\n",
    "    pickle.dump([game.dump() for game in GameCollection], file)"
   ]
  },
  {
   "cell_type": "code",
   "execution_count": null,
   "metadata": {},
   "outputs": [],
   "source": [
    "with open(\"games.pickle\", \"rb\") as file:\n",
    "    GameCollection = [Game.build(attributes) for attributes in pickle.load(file)]"
   ]
  },
  {
   "cell_type": "code",
   "execution_count": null,
   "metadata": {},
   "outputs": [],
   "source": [
    "GameCollection"
   ]
  },
  {
   "cell_type": "code",
   "execution_count": null,
   "metadata": {},
   "outputs": [],
   "source": []
  }
 ],
 "metadata": {
  "kernelspec": {
   "display_name": "Python 3",
   "language": "python",
   "name": "python3"
  },
  "language_info": {
   "codemirror_mode": {
    "name": "ipython",
    "version": 3
   },
   "file_extension": ".py",
   "mimetype": "text/x-python",
   "name": "python",
   "nbconvert_exporter": "python",
   "pygments_lexer": "ipython3",
   "version": "3.12.0"
  }
 },
 "nbformat": 4,
 "nbformat_minor": 2
}
